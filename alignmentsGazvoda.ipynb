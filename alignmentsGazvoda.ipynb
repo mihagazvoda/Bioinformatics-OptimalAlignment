{
 "cells": [
  {
   "cell_type": "code",
   "execution_count": 1,
   "metadata": {
    "collapsed": true
   },
   "outputs": [],
   "source": [
    "import numpy as np"
   ]
  },
  {
   "cell_type": "code",
   "execution_count": 2,
   "metadata": {
    "collapsed": true
   },
   "outputs": [],
   "source": [
    "# load files\n",
    "with open('aminoacids.txt') as f:\n",
    "    aminos = f.read().split()\n",
    "amino1 = aminos[0]\n",
    "amino2 = aminos[1]    \n",
    "\n",
    "alphabet = np.array(['a','c','t','g','-'], dtype=str)\n",
    "distance_matrix = np.genfromtxt('distance_matrix.txt', dtype=int, delimiter=',')\n",
    "similarity_matrix = np.genfromtxt('similarity_matrix.txt', dtype=int, delimiter=',')"
   ]
  },
  {
   "cell_type": "code",
   "execution_count": 3,
   "metadata": {
    "collapsed": true
   },
   "outputs": [],
   "source": [
    "# distance calculation\n",
    "def d(mode, a,b):\n",
    "    if mode == 'distance':\n",
    "        dist = distance_matrix[np.where(alphabet==a),np.where(alphabet==b)]\n",
    "    \n",
    "    if mode == 'similarity':\n",
    "        dist = similarity_matrix[np.where(alphabet==a),np.where(alphabet==b)]\n",
    "    \n",
    "    return dist[0]"
   ]
  },
  {
   "cell_type": "code",
   "execution_count": 4,
   "metadata": {
    "collapsed": true
   },
   "outputs": [],
   "source": [
    "def preparation(amino1, amino2, edit_m, direction_m, distance_mode):\n",
    "    # first column\n",
    "    direction_m[1:,0,2] = 1\n",
    "\n",
    "    for idx, i in enumerate('-'+amino1):\n",
    "        if idx>0:     \n",
    "            edit_m[idx,0] = d(distance_mode,i,'-') + edit_m[idx-1,0]  \n",
    "            \n",
    "    # first row\n",
    "    direction_m[0,1:,1] = 1\n",
    "\n",
    "    for idx, i in enumerate('-'+amino2):\n",
    "        if idx>0:\n",
    "            edit_m[0,idx] = d(distance_mode,'-',i) + edit_m[0,idx-1] \n",
    "        \n",
    "    # internal cells\n",
    "    for i, chr1 in enumerate(amino1, start=1):\n",
    "        for j, chr2 in enumerate(amino2, start=1):\n",
    "            edit_m[i,j] = from_where(distance_mode,direction_m,i,j,\n",
    "                                     edit_m[i-1,j-1] + d(distance_mode,chr1,chr2),\n",
    "                                     edit_m[i,j-1] + d(distance_mode,'-',chr2),\n",
    "                                     edit_m[i-1,j] + d(distance_mode,chr1,'-')) \n",
    "    return edit_m, direction_m"
   ]
  },
  {
   "cell_type": "code",
   "execution_count": 5,
   "metadata": {
    "collapsed": true
   },
   "outputs": [],
   "source": [
    "def from_where(mode,direction_m,i,j,a,b,c):\n",
    "    if mode == 'distance':\n",
    "        val = min(a,b,c)\n",
    "    \n",
    "    if mode == 'similarity':\n",
    "        val = max(a,b,c)\n",
    "          \n",
    "    # from the diagonal\n",
    "    if val == a:\n",
    "        direction_m[i,j,0] = 1\n",
    "    \n",
    "    # from the left\n",
    "    if val == b:\n",
    "        direction_m[i,j,1] = 1\n",
    "    \n",
    "    # from the upside\n",
    "    if val == c:\n",
    "        direction_m[i,j,2] = 1\n",
    "        \n",
    "    return val"
   ]
  },
  {
   "cell_type": "code",
   "execution_count": 6,
   "metadata": {
    "collapsed": true
   },
   "outputs": [],
   "source": [
    "def optimal_alignment(direction_m,i,j,str1,str2):  \n",
    "    if direction_m[i,j,0] == 1:\n",
    "        str1.insert(0,('-'+amino1)[i])\n",
    "        str2.insert(0,('-'+amino2)[j])\n",
    "        i = i - 1\n",
    "        j = j - 1\n",
    "        \n",
    "    elif direction_m[i,j,1] == 1:\n",
    "        str1.insert(0,'-')\n",
    "        str2.insert(0,('-'+amino2)[j])\n",
    "        j = j - 1\n",
    "        \n",
    "    elif direction_m[i,j,2] == 1:\n",
    "        str1.insert(0,('-'+amino1)[i])\n",
    "        str2.insert(0,'-')\n",
    "        i = i - 1\n",
    "        \n",
    "    print(\"i:\", i, \"j:\",j)\n",
    "    \n",
    "    if i == 0 and j == 0:\n",
    "        return str1, str2\n",
    "    \n",
    "    return optimal_alignment(direction_m,i,j,str1,str2)    "
   ]
  },
  {
   "cell_type": "code",
   "execution_count": 7,
   "metadata": {
    "collapsed": true
   },
   "outputs": [],
   "source": [
    "# initialize matrices\n",
    "edit_m = np.zeros((len(amino1)+1,len(amino2)+1), dtype=int)\n",
    "direction_m = np.zeros((len(amino1)+1,len(amino2)+1,3), dtype=int)"
   ]
  },
  {
   "cell_type": "code",
   "execution_count": 8,
   "metadata": {
    "collapsed": true
   },
   "outputs": [],
   "source": [
    "edit_m,direction_m = preparation(amino1,amino2,edit_m,direction_m,'distance')"
   ]
  },
  {
   "cell_type": "code",
   "execution_count": 9,
   "metadata": {},
   "outputs": [
    {
     "name": "stdout",
     "output_type": "stream",
     "text": [
      "i: 5 j: 4\n",
      "i: 4 j: 3\n",
      "i: 3 j: 2\n",
      "i: 2 j: 1\n",
      "i: 1 j: 0\n",
      "i: 0 j: 0\n"
     ]
    },
    {
     "data": {
      "text/plain": [
       "(['a', 'a', 'a', 'c', 'c', 'c'], ['-', 'c', 'c', 'c', 't', 't'])"
      ]
     },
     "execution_count": 9,
     "metadata": {},
     "output_type": "execute_result"
    }
   ],
   "source": [
    "optimal_alignment(direction_m,len(amino1),len(amino2),[],[])"
   ]
  },
  {
   "cell_type": "code",
   "execution_count": 10,
   "metadata": {
    "collapsed": true
   },
   "outputs": [],
   "source": [
    "# SIMILARITY APPROACH"
   ]
  },
  {
   "cell_type": "code",
   "execution_count": 11,
   "metadata": {
    "collapsed": true
   },
   "outputs": [],
   "source": [
    "# initialize matrices\n",
    "sim_m = np.zeros((len(amino1)+1,len(amino2)+1), dtype=int)\n",
    "sim_route = np.zeros((len(amino1)+1,len(amino2)+1,3), dtype=int)"
   ]
  },
  {
   "cell_type": "code",
   "execution_count": 12,
   "metadata": {},
   "outputs": [
    {
     "name": "stdout",
     "output_type": "stream",
     "text": [
      "[[ 0 -1 -2 -3 -4 -5]\n",
      " [-1  0 -1 -2 -3 -4]\n",
      " [-2 -1  0 -1 -2 -3]\n",
      " [-3 -2 -1  0 -1 -2]\n",
      " [-4  0  1  2  1  0]\n",
      " [-5 -1  3  4  3  2]\n",
      " [-6 -2  2  6  5  4]]\n",
      "i: 6 j: 4\n",
      "i: 6 j: 3\n",
      "i: 5 j: 2\n",
      "i: 4 j: 1\n",
      "i: 3 j: 0\n",
      "i: 2 j: 0\n",
      "i: 1 j: 0\n",
      "i: 0 j: 0\n"
     ]
    },
    {
     "data": {
      "text/plain": [
       "(['a', 'a', 'a', 'c', 'c', 'c', '-', '-'],\n",
       " ['-', '-', '-', 'c', 'c', 'c', 't', 't'])"
      ]
     },
     "execution_count": 12,
     "metadata": {},
     "output_type": "execute_result"
    }
   ],
   "source": [
    "sim_m, sim_route = preparation(amino1,amino2,sim_m,sim_route,'similarity')\n",
    "print(sim_m)\n",
    "optimal_alignment(sim_route,len(amino1),len(amino2),[],[])"
   ]
  },
  {
   "cell_type": "code",
   "execution_count": 13,
   "metadata": {
    "collapsed": true
   },
   "outputs": [],
   "source": [
    "# local alignment"
   ]
  },
  {
   "cell_type": "code",
   "execution_count": 14,
   "metadata": {
    "collapsed": true
   },
   "outputs": [],
   "source": [
    "def local_preparation(amino1, amino2, edit_m, direction_m, distance_mode):\n",
    "    # internal cells\n",
    "    for i, chr1 in enumerate(amino1, start=1):\n",
    "        for j, chr2 in enumerate(amino2, start=1):\n",
    "            edit_m[i,j] = local_from_where(distance_mode,direction_m,i,j,\n",
    "                                     edit_m[i-1,j-1] + d(distance_mode,chr1,chr2),\n",
    "                                     edit_m[i,j-1] + d(distance_mode,'-',chr2),\n",
    "                                     edit_m[i-1,j] + d(distance_mode,chr1,'-')) \n",
    "    return edit_m, direction_m"
   ]
  },
  {
   "cell_type": "code",
   "execution_count": 15,
   "metadata": {
    "collapsed": true
   },
   "outputs": [],
   "source": [
    "def local_from_where(mode,direction_m,i,j,a,b,c):\n",
    "    if mode == 'distance':\n",
    "        val = min(a,b,c)\n",
    "    \n",
    "    if mode == 'similarity':\n",
    "        val = max(a,b,c)\n",
    "    \n",
    "    if val > 0:\n",
    "        # from the diagonal\n",
    "        if val == a:\n",
    "            direction_m[i,j,0] = 1\n",
    "\n",
    "        # from the left\n",
    "        if val == b:\n",
    "            direction_m[i,j,1] = 1\n",
    "\n",
    "        # from the upside\n",
    "        if val == c:\n",
    "            direction_m[i,j,2] = 1\n",
    "    else:\n",
    "        val = 0\n",
    "        \n",
    "    return val"
   ]
  },
  {
   "cell_type": "code",
   "execution_count": 16,
   "metadata": {
    "collapsed": true
   },
   "outputs": [],
   "source": [
    "# find biggest value and start from there\n",
    "def local_alignment(direction_m,i,j,str1,str2):  \n",
    "    if direction_m[i,j,0] == 1:\n",
    "        str1.insert(0,('-'+amino1)[i])\n",
    "        str2.insert(0,('-'+amino2)[j])\n",
    "        i = i - 1\n",
    "        j = j - 1\n",
    "        \n",
    "    elif direction_m[i,j,1] == 1:\n",
    "        str1.insert(0,'-')\n",
    "        str2.insert(0,('-'+amino2)[j])\n",
    "        j = j - 1\n",
    "        \n",
    "    elif direction_m[i,j,2] == 1:\n",
    "        str1.insert(0,('-'+amino1)[i])\n",
    "        str2.insert(0,'-')\n",
    "        i = i - 1\n",
    "        \n",
    "    print(\"i:\", i, \"j:\",j)\n",
    "    \n",
    "    if (i == 0) or (j == 0):\n",
    "        return str1, str2\n",
    "    \n",
    "    return local_alignment(direction_m,i,j,str1,str2)    "
   ]
  },
  {
   "cell_type": "code",
   "execution_count": 17,
   "metadata": {
    "collapsed": true
   },
   "outputs": [],
   "source": [
    "# initialize matrices\n",
    "local_sim_m = np.zeros((len(amino1)+1,len(amino2)+1), dtype=int)\n",
    "local_route = np.zeros((len(amino1)+1,len(amino2)+1,3), dtype=int)"
   ]
  },
  {
   "cell_type": "code",
   "execution_count": 18,
   "metadata": {
    "collapsed": true
   },
   "outputs": [],
   "source": [
    "local_sim_m, local_route = local_preparation(amino1, amino2, local_sim_m, local_route, 'similarity')"
   ]
  },
  {
   "cell_type": "code",
   "execution_count": 19,
   "metadata": {
    "collapsed": true
   },
   "outputs": [],
   "source": [
    "start_i,start_j = np.unravel_index(local_sim_m.argmax(), local_sim_m.shape)"
   ]
  },
  {
   "cell_type": "code",
   "execution_count": 20,
   "metadata": {},
   "outputs": [
    {
     "name": "stdout",
     "output_type": "stream",
     "text": [
      "i: 5 j: 2\n",
      "i: 4 j: 1\n",
      "i: 3 j: 0\n"
     ]
    },
    {
     "data": {
      "text/plain": [
       "(['c', 'c', 'c'], ['c', 'c', 'c'])"
      ]
     },
     "execution_count": 20,
     "metadata": {},
     "output_type": "execute_result"
    }
   ],
   "source": [
    "local_alignment(sim_route,start_i,start_j,[],[])"
   ]
  }
 ],
 "metadata": {
  "anaconda-cloud": {},
  "kernelspec": {
   "display_name": "Python 3",
   "language": "python",
   "name": "python3"
  },
  "language_info": {
   "codemirror_mode": {
    "name": "ipython",
    "version": 3
   },
   "file_extension": ".py",
   "mimetype": "text/x-python",
   "name": "python",
   "nbconvert_exporter": "python",
   "pygments_lexer": "ipython3",
   "version": "3.6.3"
  }
 },
 "nbformat": 4,
 "nbformat_minor": 1
}
